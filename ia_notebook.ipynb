{
  "nbformat": 4,
  "nbformat_minor": 0,
  "metadata": {
    "colab": {
      "name": "Trabalho IA",
      "provenance": [],
      "collapsed_sections": []
    },
    "kernelspec": {
      "display_name": "Python 3",
      "name": "python3"
    }
  },
  "cells": [
    {
      "cell_type": "markdown",
      "metadata": {
        "id": "2Thr_yiRjfhz"
      },
      "source": [
        "# Dados"
      ]
    },
    {
      "cell_type": "code",
      "metadata": {
        "id": "XvPaRrjxi9R3",
        "colab": {
          "base_uri": "https://localhost:8080/"
        },
        "outputId": "00f5ede3-610b-4a40-b3f0-7af9cd94247b"
      },
      "source": [
        "import numpy as np\n",
        "import pandas as pd\n",
        "data=pd.read_csv(\"speedDating_trab.csv\", sep=\",\")\n",
        "\n",
        "#retirando a primeira coluna undefined\n",
        "data=pd.DataFrame(data=data.iloc[:,1:14].values,columns=data.columns[1:14])\n",
        "\n",
        "print(data)\n"
      ],
      "execution_count": null,
      "outputs": [
        {
          "output_type": "stream",
          "text": [
            "        id  partner   age  age_o  goal  ...  length  met  like  prob  match\n",
            "0      1.0      1.0  21.0   27.0   2.0  ...     2.0  1.0   7.0   6.0    0.0\n",
            "1      1.0      2.0  21.0   22.0   2.0  ...     2.0  1.0   7.0   5.0    0.0\n",
            "2      1.0      3.0  21.0   22.0   2.0  ...     2.0  1.0   7.0   NaN    1.0\n",
            "3      1.0      4.0  21.0   23.0   2.0  ...     2.0  1.0   7.0   6.0    1.0\n",
            "4      1.0      5.0  21.0   24.0   2.0  ...     2.0  1.0   6.0   6.0    1.0\n",
            "...    ...      ...   ...    ...   ...  ...     ...  ...   ...   ...    ...\n",
            "8373  22.0     18.0  25.0   26.0   1.0  ...     1.0  0.0   2.0   5.0    0.0\n",
            "8374  22.0     19.0  25.0   24.0   1.0  ...     1.0  0.0   4.0   4.0    0.0\n",
            "8375  22.0     20.0  25.0   29.0   1.0  ...     1.0  0.0   6.0   5.0    0.0\n",
            "8376  22.0     21.0  25.0   22.0   1.0  ...     1.0  0.0   5.0   5.0    0.0\n",
            "8377   NaN     22.0  25.0   22.0   1.0  ...     1.0  0.0   4.0   5.0    0.0\n",
            "\n",
            "[8378 rows x 13 columns]\n"
          ],
          "name": "stdout"
        }
      ]
    },
    {
      "cell_type": "markdown",
      "metadata": {
        "id": "pHKYilF_Yc6H"
      },
      "source": [
        "Descrição dos dados"
      ]
    },
    {
      "cell_type": "code",
      "metadata": {
        "colab": {
          "base_uri": "https://localhost:8080/",
          "height": 315
        },
        "id": "3tI-xCRH8gBj",
        "outputId": "ac292df0-37a5-433b-ac06-4badce942eae"
      },
      "source": [
        "data.describe()"
      ],
      "execution_count": null,
      "outputs": [
        {
          "output_type": "execute_result",
          "data": {
            "text/html": [
              "<div>\n",
              "<style scoped>\n",
              "    .dataframe tbody tr th:only-of-type {\n",
              "        vertical-align: middle;\n",
              "    }\n",
              "\n",
              "    .dataframe tbody tr th {\n",
              "        vertical-align: top;\n",
              "    }\n",
              "\n",
              "    .dataframe thead th {\n",
              "        text-align: right;\n",
              "    }\n",
              "</style>\n",
              "<table border=\"1\" class=\"dataframe\">\n",
              "  <thead>\n",
              "    <tr style=\"text-align: right;\">\n",
              "      <th></th>\n",
              "      <th>id</th>\n",
              "      <th>partner</th>\n",
              "      <th>age</th>\n",
              "      <th>age_o</th>\n",
              "      <th>goal</th>\n",
              "      <th>date</th>\n",
              "      <th>go_out</th>\n",
              "      <th>int_corr</th>\n",
              "      <th>length</th>\n",
              "      <th>met</th>\n",
              "      <th>like</th>\n",
              "      <th>prob</th>\n",
              "      <th>match</th>\n",
              "    </tr>\n",
              "  </thead>\n",
              "  <tbody>\n",
              "    <tr>\n",
              "      <th>count</th>\n",
              "      <td>8377.000000</td>\n",
              "      <td>8378.000000</td>\n",
              "      <td>8283.000000</td>\n",
              "      <td>8274.000000</td>\n",
              "      <td>8299.000000</td>\n",
              "      <td>8281.000000</td>\n",
              "      <td>8299.000000</td>\n",
              "      <td>8220.000000</td>\n",
              "      <td>7463.000000</td>\n",
              "      <td>8003.000000</td>\n",
              "      <td>8138.000000</td>\n",
              "      <td>8069.000000</td>\n",
              "      <td>8378.000000</td>\n",
              "    </tr>\n",
              "    <tr>\n",
              "      <th>mean</th>\n",
              "      <td>8.960248</td>\n",
              "      <td>8.963595</td>\n",
              "      <td>26.358928</td>\n",
              "      <td>26.364999</td>\n",
              "      <td>2.122063</td>\n",
              "      <td>5.006762</td>\n",
              "      <td>2.158091</td>\n",
              "      <td>0.196010</td>\n",
              "      <td>1.843495</td>\n",
              "      <td>0.494315</td>\n",
              "      <td>6.134087</td>\n",
              "      <td>5.207523</td>\n",
              "      <td>0.164717</td>\n",
              "    </tr>\n",
              "    <tr>\n",
              "      <th>std</th>\n",
              "      <td>5.491329</td>\n",
              "      <td>5.491068</td>\n",
              "      <td>3.566763</td>\n",
              "      <td>3.563648</td>\n",
              "      <td>1.407181</td>\n",
              "      <td>1.444531</td>\n",
              "      <td>1.105246</td>\n",
              "      <td>0.303539</td>\n",
              "      <td>0.975662</td>\n",
              "      <td>0.499999</td>\n",
              "      <td>1.841285</td>\n",
              "      <td>2.129565</td>\n",
              "      <td>0.370947</td>\n",
              "    </tr>\n",
              "    <tr>\n",
              "      <th>min</th>\n",
              "      <td>1.000000</td>\n",
              "      <td>1.000000</td>\n",
              "      <td>18.000000</td>\n",
              "      <td>18.000000</td>\n",
              "      <td>1.000000</td>\n",
              "      <td>1.000000</td>\n",
              "      <td>1.000000</td>\n",
              "      <td>-0.830000</td>\n",
              "      <td>1.000000</td>\n",
              "      <td>0.000000</td>\n",
              "      <td>0.000000</td>\n",
              "      <td>0.000000</td>\n",
              "      <td>0.000000</td>\n",
              "    </tr>\n",
              "    <tr>\n",
              "      <th>25%</th>\n",
              "      <td>4.000000</td>\n",
              "      <td>4.000000</td>\n",
              "      <td>24.000000</td>\n",
              "      <td>24.000000</td>\n",
              "      <td>1.000000</td>\n",
              "      <td>4.000000</td>\n",
              "      <td>1.000000</td>\n",
              "      <td>-0.020000</td>\n",
              "      <td>1.000000</td>\n",
              "      <td>0.000000</td>\n",
              "      <td>5.000000</td>\n",
              "      <td>4.000000</td>\n",
              "      <td>0.000000</td>\n",
              "    </tr>\n",
              "    <tr>\n",
              "      <th>50%</th>\n",
              "      <td>8.000000</td>\n",
              "      <td>8.000000</td>\n",
              "      <td>26.000000</td>\n",
              "      <td>26.000000</td>\n",
              "      <td>2.000000</td>\n",
              "      <td>5.000000</td>\n",
              "      <td>2.000000</td>\n",
              "      <td>0.210000</td>\n",
              "      <td>1.000000</td>\n",
              "      <td>0.000000</td>\n",
              "      <td>6.000000</td>\n",
              "      <td>5.000000</td>\n",
              "      <td>0.000000</td>\n",
              "    </tr>\n",
              "    <tr>\n",
              "      <th>75%</th>\n",
              "      <td>13.000000</td>\n",
              "      <td>13.000000</td>\n",
              "      <td>28.000000</td>\n",
              "      <td>28.000000</td>\n",
              "      <td>2.000000</td>\n",
              "      <td>6.000000</td>\n",
              "      <td>3.000000</td>\n",
              "      <td>0.430000</td>\n",
              "      <td>3.000000</td>\n",
              "      <td>1.000000</td>\n",
              "      <td>7.000000</td>\n",
              "      <td>7.000000</td>\n",
              "      <td>0.000000</td>\n",
              "    </tr>\n",
              "    <tr>\n",
              "      <th>max</th>\n",
              "      <td>22.000000</td>\n",
              "      <td>22.000000</td>\n",
              "      <td>55.000000</td>\n",
              "      <td>55.000000</td>\n",
              "      <td>6.000000</td>\n",
              "      <td>7.000000</td>\n",
              "      <td>7.000000</td>\n",
              "      <td>0.910000</td>\n",
              "      <td>3.000000</td>\n",
              "      <td>1.000000</td>\n",
              "      <td>10.000000</td>\n",
              "      <td>10.000000</td>\n",
              "      <td>1.000000</td>\n",
              "    </tr>\n",
              "  </tbody>\n",
              "</table>\n",
              "</div>"
            ],
            "text/plain": [
              "                id      partner  ...         prob        match\n",
              "count  8377.000000  8378.000000  ...  8069.000000  8378.000000\n",
              "mean      8.960248     8.963595  ...     5.207523     0.164717\n",
              "std       5.491329     5.491068  ...     2.129565     0.370947\n",
              "min       1.000000     1.000000  ...     0.000000     0.000000\n",
              "25%       4.000000     4.000000  ...     4.000000     0.000000\n",
              "50%       8.000000     8.000000  ...     5.000000     0.000000\n",
              "75%      13.000000    13.000000  ...     7.000000     0.000000\n",
              "max      22.000000    22.000000  ...    10.000000     1.000000\n",
              "\n",
              "[8 rows x 13 columns]"
            ]
          },
          "metadata": {
            "tags": []
          },
          "execution_count": 256
        }
      ]
    },
    {
      "cell_type": "markdown",
      "metadata": {
        "id": "3J-5NfqCYoZH"
      },
      "source": [
        "Substituição dos valores nulos pelo: valor inteiro da média dos seus valores em age e age_o, o int_corr é substituido pelo seu valor float com duas casas decimais e as variaveis categoricas sao substituidas pela sua moda. **substituir os valores quebrados da variavel like e probs para nao termos um modelo muito overthinngk comparar ma verdade**"
      ]
    },
    {
      "cell_type": "code",
      "metadata": {
        "id": "VARl1bOdROpp"
      },
      "source": [
        "dataC=data.copy()\n",
        "\n",
        "\n",
        "for col in dataC.columns:\n",
        "  if(col!='id' and col!='partner'):\n",
        "      if(col=='int_corr'):\n",
        "         dataC[col]=dataC[col].replace(np.nan,round(dataC[col].mean(),2))\n",
        "      if(col=='age' or col=='age_o'):\n",
        "         dataC[col]=dataC[col].replace(np.nan,float(int(dataC[col].mean())))\n",
        "      else:\n",
        "         dataC[col]=dataC[col].replace(np.nan,float(int(dataC[col].mode())))\n",
        "         \n",
        "\n",
        "\n",
        "data=dataC.copy()\n",
        "\n"
      ],
      "execution_count": null,
      "outputs": []
    },
    {
      "cell_type": "code",
      "metadata": {
        "id": "VBPzLAaYQrmk",
        "colab": {
          "base_uri": "https://localhost:8080/"
        },
        "outputId": "4a1ab0cb-fd88-4d14-ec93-02238a3ff800"
      },
      "source": [
        "print(data.info())"
      ],
      "execution_count": null,
      "outputs": [
        {
          "output_type": "stream",
          "text": [
            "<class 'pandas.core.frame.DataFrame'>\n",
            "RangeIndex: 8378 entries, 0 to 8377\n",
            "Data columns (total 13 columns):\n",
            " #   Column    Non-Null Count  Dtype  \n",
            "---  ------    --------------  -----  \n",
            " 0   id        8377 non-null   float64\n",
            " 1   partner   8378 non-null   float64\n",
            " 2   age       8378 non-null   float64\n",
            " 3   age_o     8378 non-null   float64\n",
            " 4   goal      8378 non-null   float64\n",
            " 5   date      8378 non-null   float64\n",
            " 6   go_out    8378 non-null   float64\n",
            " 7   int_corr  8378 non-null   float64\n",
            " 8   length    8378 non-null   float64\n",
            " 9   met       8378 non-null   float64\n",
            " 10  like      8378 non-null   float64\n",
            " 11  prob      8378 non-null   float64\n",
            " 12  match     8378 non-null   float64\n",
            "dtypes: float64(13)\n",
            "memory usage: 851.0 KB\n",
            "None\n"
          ],
          "name": "stdout"
        }
      ]
    },
    {
      "cell_type": "markdown",
      "metadata": {
        "id": "JdixCQ47Y3EG"
      },
      "source": [
        "Nova descrição dos dados"
      ]
    },
    {
      "cell_type": "code",
      "metadata": {
        "id": "Km-2Lha1Sozt",
        "colab": {
          "base_uri": "https://localhost:8080/",
          "height": 315
        },
        "outputId": "da22bbcf-661c-48fe-9a2a-0d18e9c3ec3c"
      },
      "source": [
        "data.describe()"
      ],
      "execution_count": null,
      "outputs": [
        {
          "output_type": "execute_result",
          "data": {
            "text/html": [
              "<div>\n",
              "<style scoped>\n",
              "    .dataframe tbody tr th:only-of-type {\n",
              "        vertical-align: middle;\n",
              "    }\n",
              "\n",
              "    .dataframe tbody tr th {\n",
              "        vertical-align: top;\n",
              "    }\n",
              "\n",
              "    .dataframe thead th {\n",
              "        text-align: right;\n",
              "    }\n",
              "</style>\n",
              "<table border=\"1\" class=\"dataframe\">\n",
              "  <thead>\n",
              "    <tr style=\"text-align: right;\">\n",
              "      <th></th>\n",
              "      <th>id</th>\n",
              "      <th>partner</th>\n",
              "      <th>age</th>\n",
              "      <th>age_o</th>\n",
              "      <th>goal</th>\n",
              "      <th>date</th>\n",
              "      <th>go_out</th>\n",
              "      <th>int_corr</th>\n",
              "      <th>length</th>\n",
              "      <th>met</th>\n",
              "      <th>like</th>\n",
              "      <th>prob</th>\n",
              "      <th>match</th>\n",
              "    </tr>\n",
              "  </thead>\n",
              "  <tbody>\n",
              "    <tr>\n",
              "      <th>count</th>\n",
              "      <td>8377.000000</td>\n",
              "      <td>8378.000000</td>\n",
              "      <td>8378.000000</td>\n",
              "      <td>8378.000000</td>\n",
              "      <td>8378.000000</td>\n",
              "      <td>8378.000000</td>\n",
              "      <td>8378.000000</td>\n",
              "      <td>8378.000000</td>\n",
              "      <td>8378.000000</td>\n",
              "      <td>8378.000000</td>\n",
              "      <td>8378.000000</td>\n",
              "      <td>8378.000000</td>\n",
              "      <td>8378.000000</td>\n",
              "    </tr>\n",
              "    <tr>\n",
              "      <th>mean</th>\n",
              "      <td>8.960248</td>\n",
              "      <td>8.963595</td>\n",
              "      <td>26.354858</td>\n",
              "      <td>26.360468</td>\n",
              "      <td>2.111482</td>\n",
              "      <td>5.018262</td>\n",
              "      <td>2.156601</td>\n",
              "      <td>0.196085</td>\n",
              "      <td>1.751373</td>\n",
              "      <td>0.472189</td>\n",
              "      <td>6.158892</td>\n",
              "      <td>5.199869</td>\n",
              "      <td>0.164717</td>\n",
              "    </tr>\n",
              "    <tr>\n",
              "      <th>std</th>\n",
              "      <td>5.491329</td>\n",
              "      <td>5.491068</td>\n",
              "      <td>3.546684</td>\n",
              "      <td>3.541689</td>\n",
              "      <td>1.404722</td>\n",
              "      <td>1.440069</td>\n",
              "      <td>1.100129</td>\n",
              "      <td>0.300664</td>\n",
              "      <td>0.957688</td>\n",
              "      <td>0.499256</td>\n",
              "      <td>1.820457</td>\n",
              "      <td>2.090285</td>\n",
              "      <td>0.370947</td>\n",
              "    </tr>\n",
              "    <tr>\n",
              "      <th>min</th>\n",
              "      <td>1.000000</td>\n",
              "      <td>1.000000</td>\n",
              "      <td>18.000000</td>\n",
              "      <td>18.000000</td>\n",
              "      <td>1.000000</td>\n",
              "      <td>1.000000</td>\n",
              "      <td>1.000000</td>\n",
              "      <td>-0.830000</td>\n",
              "      <td>1.000000</td>\n",
              "      <td>0.000000</td>\n",
              "      <td>0.000000</td>\n",
              "      <td>0.000000</td>\n",
              "      <td>0.000000</td>\n",
              "    </tr>\n",
              "    <tr>\n",
              "      <th>25%</th>\n",
              "      <td>4.000000</td>\n",
              "      <td>4.000000</td>\n",
              "      <td>24.000000</td>\n",
              "      <td>24.000000</td>\n",
              "      <td>1.000000</td>\n",
              "      <td>4.000000</td>\n",
              "      <td>1.000000</td>\n",
              "      <td>-0.010000</td>\n",
              "      <td>1.000000</td>\n",
              "      <td>0.000000</td>\n",
              "      <td>5.000000</td>\n",
              "      <td>4.000000</td>\n",
              "      <td>0.000000</td>\n",
              "    </tr>\n",
              "    <tr>\n",
              "      <th>50%</th>\n",
              "      <td>8.000000</td>\n",
              "      <td>8.000000</td>\n",
              "      <td>26.000000</td>\n",
              "      <td>26.000000</td>\n",
              "      <td>2.000000</td>\n",
              "      <td>5.000000</td>\n",
              "      <td>2.000000</td>\n",
              "      <td>0.200000</td>\n",
              "      <td>1.000000</td>\n",
              "      <td>0.000000</td>\n",
              "      <td>6.000000</td>\n",
              "      <td>5.000000</td>\n",
              "      <td>0.000000</td>\n",
              "    </tr>\n",
              "    <tr>\n",
              "      <th>75%</th>\n",
              "      <td>13.000000</td>\n",
              "      <td>13.000000</td>\n",
              "      <td>28.000000</td>\n",
              "      <td>28.000000</td>\n",
              "      <td>2.000000</td>\n",
              "      <td>6.000000</td>\n",
              "      <td>3.000000</td>\n",
              "      <td>0.430000</td>\n",
              "      <td>3.000000</td>\n",
              "      <td>1.000000</td>\n",
              "      <td>7.000000</td>\n",
              "      <td>7.000000</td>\n",
              "      <td>0.000000</td>\n",
              "    </tr>\n",
              "    <tr>\n",
              "      <th>max</th>\n",
              "      <td>22.000000</td>\n",
              "      <td>22.000000</td>\n",
              "      <td>55.000000</td>\n",
              "      <td>55.000000</td>\n",
              "      <td>6.000000</td>\n",
              "      <td>7.000000</td>\n",
              "      <td>7.000000</td>\n",
              "      <td>0.910000</td>\n",
              "      <td>3.000000</td>\n",
              "      <td>1.000000</td>\n",
              "      <td>10.000000</td>\n",
              "      <td>10.000000</td>\n",
              "      <td>1.000000</td>\n",
              "    </tr>\n",
              "  </tbody>\n",
              "</table>\n",
              "</div>"
            ],
            "text/plain": [
              "                id      partner  ...         prob        match\n",
              "count  8377.000000  8378.000000  ...  8378.000000  8378.000000\n",
              "mean      8.960248     8.963595  ...     5.199869     0.164717\n",
              "std       5.491329     5.491068  ...     2.090285     0.370947\n",
              "min       1.000000     1.000000  ...     0.000000     0.000000\n",
              "25%       4.000000     4.000000  ...     4.000000     0.000000\n",
              "50%       8.000000     8.000000  ...     5.000000     0.000000\n",
              "75%      13.000000    13.000000  ...     7.000000     0.000000\n",
              "max      22.000000    22.000000  ...    10.000000     1.000000\n",
              "\n",
              "[8 rows x 13 columns]"
            ]
          },
          "metadata": {
            "tags": []
          },
          "execution_count": 259
        }
      ]
    },
    {
      "cell_type": "markdown",
      "metadata": {
        "id": "zSFovMt4Zc9v"
      },
      "source": [
        "# Analise dos dados (no R)\n",
        "\n",
        "\n"
      ]
    },
    {
      "cell_type": "code",
      "metadata": {
        "id": "A343h5UJzCsE"
      },
      "source": [
        "#from google.colab import files\n",
        "#data.to_csv('speedDating.csv',index = False, header = True)\n",
        "#files.download('speedDating.csv')"
      ],
      "execution_count": null,
      "outputs": []
    },
    {
      "cell_type": "markdown",
      "metadata": {
        "id": "o2cilQkIaqRy"
      },
      "source": [
        "# Preparação dos dados"
      ]
    },
    {
      "cell_type": "markdown",
      "metadata": {
        "id": "3geTibc5ZsKG"
      },
      "source": [
        "Separação entre atributos e objetivos"
      ]
    },
    {
      "cell_type": "code",
      "metadata": {
        "id": "gkBh1x7HZkYZ"
      },
      "source": [
        "x=data.drop(columns=['id','partner','match'])\n",
        "y=data['match']"
      ],
      "execution_count": null,
      "outputs": []
    },
    {
      "cell_type": "markdown",
      "metadata": {
        "id": "aI3e9CtqLu9v"
      },
      "source": [
        "30% dos dados para teste e 70% para treino"
      ]
    },
    {
      "cell_type": "code",
      "metadata": {
        "id": "UKpAvRiqaXCf"
      },
      "source": [
        "from sklearn.model_selection import train_test_split\n",
        "#random state para fixar uma divisão dos dados\n",
        "x_train,x_test,y_train,y_test=train_test_split(x,y,test_size=0.3,random_state=9)"
      ],
      "execution_count": null,
      "outputs": []
    },
    {
      "cell_type": "markdown",
      "metadata": {
        "id": "jNVQ3aYmIxmH"
      },
      "source": [
        "\n",
        "\n",
        "# Criando modelos CART"
      ]
    },
    {
      "cell_type": "markdown",
      "metadata": {
        "id": "wVwc0H20S__o"
      },
      "source": [
        "Sem pré prunning"
      ]
    },
    {
      "cell_type": "code",
      "metadata": {
        "id": "nMXsXjmCJzbj"
      },
      "source": [
        "from sklearn import tree\n",
        "from sklearn.tree import DecisionTreeClassifier\n",
        "import matplotlib.pyplot as plt\n",
        "\n",
        "model_SP=DecisionTreeClassifier(criterion='gini',random_state=9)\n",
        "model_SP.fit(x_train,y_train)\n",
        "#fig, axes = plt.subplots(nrows = 1,ncols = 1,figsize = (4,4), dpi=300)\n",
        "#tree.plot_tree(model_SP,feature_names=x.columns,class_names=[\"0\",\"1\"],filled=True)\n",
        "#fig.savefig('arvore_SP.png')\n",
        "\n",
        "predictions_cart_SP=model_SP.predict(x_test)"
      ],
      "execution_count": null,
      "outputs": []
    },
    {
      "cell_type": "markdown",
      "metadata": {
        "id": "r6Vr2NUTgkeS"
      },
      "source": [
        "Analise CART prunning: verificar qual melhor altura da arvore"
      ]
    },
    {
      "cell_type": "code",
      "metadata": {
        "colab": {
          "base_uri": "https://localhost:8080/"
        },
        "id": "lQF0TvYFgnd8",
        "outputId": "6fce2953-7385-4b48-913f-65b8815fdc3a"
      },
      "source": [
        "from sklearn.metrics import accuracy_score\n",
        "from sklearn.metrics import precision_score, recall_score\n",
        "from sklearn.metrics import f1_score\n",
        "scorem=0\n",
        "isc=0\n",
        "precisionm=0\n",
        "ip=0\n",
        "recallm=0\n",
        "ir=0\n",
        "\n",
        "for i in range(1,1200):\n",
        "  model_i=DecisionTreeClassifier(criterion='gini',max_depth=i,random_state=9)\n",
        "  model_i.fit(x_train,y_train)\n",
        "  predictions_cart_i=model_i.predict(x_test)\n",
        "  score=accuracy_score(y_test, predictions_cart_i)\n",
        "  precision=precision_score(y_test,predictions_cart_i,labels=[1,0])\n",
        "  recall=recall_score(y_test,predictions_cart_i,labels=[1,0])\n",
        "  \n",
        "  if(score>scorem):\n",
        "    scorem=score\n",
        "    isc=i\n",
        "  if(precision>precisionm):\n",
        "    precisionm=precision\n",
        "    ip=i\n",
        "  if(recall>recallm):\n",
        "    recallm=recall \n",
        "    ir=i\n",
        "  \n",
        "print(\"melhor score: altura \",isc,\" melhor precision: altura \",ip)"
      ],
      "execution_count": null,
      "outputs": [
        {
          "output_type": "stream",
          "text": [
            "/usr/local/lib/python3.7/dist-packages/sklearn/metrics/_classification.py:1272: UndefinedMetricWarning: Precision is ill-defined and being set to 0.0 due to no predicted samples. Use `zero_division` parameter to control this behavior.\n",
            "  _warn_prf(average, modifier, msg_start, len(result))\n"
          ],
          "name": "stderr"
        },
        {
          "output_type": "stream",
          "text": [
            "melhor score: altura  3  melhor precision: altura  3\n"
          ],
          "name": "stdout"
        }
      ]
    },
    {
      "cell_type": "markdown",
      "metadata": {
        "id": "e6r0RLc8TCd8"
      },
      "source": [
        "com pre prunnig"
      ]
    },
    {
      "cell_type": "code",
      "metadata": {
        "colab": {
          "base_uri": "https://localhost:8080/"
        },
        "id": "UgoCNF4AS9D8",
        "outputId": "c1a0837b-a1c2-470d-d380-4854d704191d"
      },
      "source": [
        "model=DecisionTreeClassifier(criterion='gini',max_depth=18,random_state=9)\n",
        "model.fit(x_train,y_train)\n",
        "#fig, axes = plt.subplots(nrows = 1,ncols = 1,figsize = (4,4), dpi=300)\n",
        "#tree.plot_tree(model,feature_names=x.columns,class_names=[\"0\",\"1\"],filled=True)\n",
        "#fig.savefig('arvore.png')"
      ],
      "execution_count": null,
      "outputs": [
        {
          "output_type": "execute_result",
          "data": {
            "text/plain": [
              "DecisionTreeClassifier(ccp_alpha=0.0, class_weight=None, criterion='gini',\n",
              "                       max_depth=18, max_features=None, max_leaf_nodes=None,\n",
              "                       min_impurity_decrease=0.0, min_impurity_split=None,\n",
              "                       min_samples_leaf=1, min_samples_split=2,\n",
              "                       min_weight_fraction_leaf=0.0, presort='deprecated',\n",
              "                       random_state=9, splitter='best')"
            ]
          },
          "metadata": {
            "tags": []
          },
          "execution_count": 265
        }
      ]
    },
    {
      "cell_type": "markdown",
      "metadata": {
        "id": "AZI1GB9VXRKB"
      },
      "source": [
        "Ver arvore"
      ]
    },
    {
      "cell_type": "code",
      "metadata": {
        "id": "sKEGaz8DTSjZ"
      },
      "source": [
        "predictions_cart=model.predict(x_test)"
      ],
      "execution_count": null,
      "outputs": []
    },
    {
      "cell_type": "markdown",
      "metadata": {
        "id": "0c5MNkN-a-dl"
      },
      "source": [
        "# Naive Bayes"
      ]
    },
    {
      "cell_type": "code",
      "metadata": {
        "id": "IN39DBtbWXeg"
      },
      "source": [
        "from sklearn.naive_bayes import GaussianNB\n",
        "clf = GaussianNB()\n",
        "clf.fit(x_train, y_train)\n",
        "predictions_naive= clf.predict(x_test)\n",
        "\n"
      ],
      "execution_count": null,
      "outputs": []
    },
    {
      "cell_type": "markdown",
      "metadata": {
        "id": "kL2xLahm2Gf1"
      },
      "source": [
        "# Avaliação"
      ]
    },
    {
      "cell_type": "markdown",
      "metadata": {
        "id": "Uk8iUeLc29QM"
      },
      "source": [
        "Accurracy"
      ]
    },
    {
      "cell_type": "code",
      "metadata": {
        "colab": {
          "base_uri": "https://localhost:8080/"
        },
        "id": "MLJWIvm3r3zW",
        "outputId": "d93f3847-4e3e-4848-c04d-1e16bed76102"
      },
      "source": [
        "from sklearn.metrics import accuracy_score\n",
        "\n",
        "\n",
        "score_cart_SP=accuracy_score(y_test, predictions_cart_SP)\n",
        "print(\"accuracy cart s/p\",score_cart_SP*100)"
      ],
      "execution_count": null,
      "outputs": [
        {
          "output_type": "stream",
          "text": [
            "accuracy cart s/p 76.17342879872713\n"
          ],
          "name": "stdout"
        }
      ]
    },
    {
      "cell_type": "code",
      "metadata": {
        "id": "ugcRnb8s2cIU",
        "colab": {
          "base_uri": "https://localhost:8080/"
        },
        "outputId": "b9f1673b-5dd8-4c2d-ef21-d216a752db10"
      },
      "source": [
        "\n",
        "score_cart=accuracy_score(y_test, predictions_cart)\n",
        "print(\"accuracy cart c/p\",score_cart*100)"
      ],
      "execution_count": null,
      "outputs": [
        {
          "output_type": "stream",
          "text": [
            "accuracy cart c/p 76.41209228321401\n"
          ],
          "name": "stdout"
        }
      ]
    },
    {
      "cell_type": "code",
      "metadata": {
        "id": "rbxWPqqB2pgb",
        "colab": {
          "base_uri": "https://localhost:8080/"
        },
        "outputId": "11d55ad0-26e3-4dcf-9cd0-0ad58fa92a94"
      },
      "source": [
        "score_naive=accuracy_score(y_test, predictions_naive)\n",
        "print(\"accuracy naive bayes\",score_naive*100)"
      ],
      "execution_count": null,
      "outputs": [
        {
          "output_type": "stream",
          "text": [
            "accuracy naive bayes 83.17422434367542\n"
          ],
          "name": "stdout"
        }
      ]
    },
    {
      "cell_type": "markdown",
      "metadata": {
        "id": "IR6HbtSmjgBP"
      },
      "source": [
        "# dummy "
      ]
    },
    {
      "cell_type": "code",
      "metadata": {
        "colab": {
          "base_uri": "https://localhost:8080/"
        },
        "id": "gM-jljerRk-A",
        "outputId": "da82abbd-e85c-4925-be6e-38cb549019ae"
      },
      "source": [
        "from sklearn.dummy import DummyClassifier\n",
        "clf = DummyClassifier(strategy='most_frequent', random_state=0)\n",
        "clf.fit(x_train, y_train)\n",
        "DummyClassifier(random_state=9, strategy='most_frequent')\n",
        "clf.score(x_test, y_test)*100"
      ],
      "execution_count": null,
      "outputs": [
        {
          "output_type": "execute_result",
          "data": {
            "text/plain": [
              "84.44709626093875"
            ]
          },
          "metadata": {
            "tags": []
          },
          "execution_count": 271
        }
      ]
    },
    {
      "cell_type": "markdown",
      "metadata": {
        "id": "V7iMmFnI3Maf"
      },
      "source": [
        "Matriz de confusão,precision e recall"
      ]
    },
    {
      "cell_type": "markdown",
      "metadata": {
        "id": "KWJUotkPsh2q"
      },
      "source": [
        "CART s/prunning"
      ]
    },
    {
      "cell_type": "code",
      "metadata": {
        "colab": {
          "base_uri": "https://localhost:8080/"
        },
        "id": "G7H61VvYsDyo",
        "outputId": "f51c84ef-f455-44cf-a731-1936f9713731"
      },
      "source": [
        "from sklearn.metrics import confusion_matrix\n",
        "confusion_matrix_cart_SP=confusion_matrix(y_test, predictions_cart_SP,labels=[1,0])\n",
        "confusion_matrix_cart_SP"
      ],
      "execution_count": null,
      "outputs": [
        {
          "output_type": "execute_result",
          "data": {
            "text/plain": [
              "array([[ 130,  261],\n",
              "       [ 338, 1785]])"
            ]
          },
          "metadata": {
            "tags": []
          },
          "execution_count": 272
        }
      ]
    },
    {
      "cell_type": "code",
      "metadata": {
        "colab": {
          "base_uri": "https://localhost:8080/"
        },
        "id": "x_AxKgNPsdYZ",
        "outputId": "6d7f55f7-b21b-4664-98db-2a98cda3506a"
      },
      "source": [
        "from sklearn.metrics import precision_score, recall_score\n",
        "print(\"precision \",precision_score(y_test,predictions_cart_SP,labels=[1,0])*100)\n",
        "print(\"recall \",recall_score(y_test,predictions_cart_SP,labels=[1,0])*100)"
      ],
      "execution_count": null,
      "outputs": [
        {
          "output_type": "stream",
          "text": [
            "precision  27.77777777777778\n",
            "recall  33.248081841432224\n"
          ],
          "name": "stdout"
        }
      ]
    },
    {
      "cell_type": "markdown",
      "metadata": {
        "id": "5Zrd1WUJsk71"
      },
      "source": [
        "CART c/ prunning"
      ]
    },
    {
      "cell_type": "code",
      "metadata": {
        "id": "GqEiPJUQ3Psv",
        "colab": {
          "base_uri": "https://localhost:8080/"
        },
        "outputId": "389e2699-cf5c-45a0-b561-c414e1733a5d"
      },
      "source": [
        "\n",
        "confusion_matrix_cart=confusion_matrix(y_test, predictions_cart,labels=[1,0])\n",
        "confusion_matrix_cart"
      ],
      "execution_count": null,
      "outputs": [
        {
          "output_type": "execute_result",
          "data": {
            "text/plain": [
              "array([[ 138,  253],\n",
              "       [ 340, 1783]])"
            ]
          },
          "metadata": {
            "tags": []
          },
          "execution_count": 274
        }
      ]
    },
    {
      "cell_type": "code",
      "metadata": {
        "colab": {
          "base_uri": "https://localhost:8080/"
        },
        "id": "kmsmK-kbpb_T",
        "outputId": "dec51670-3e07-428a-f68b-fbed516cd0c5"
      },
      "source": [
        "\n",
        "\n",
        "print(\"precision \",precision_score(y_test,predictions_cart,labels=[1,0])*100)\n",
        "print(\"recall \",recall_score(y_test,predictions_cart,labels=[1,0])*100)"
      ],
      "execution_count": null,
      "outputs": [
        {
          "output_type": "stream",
          "text": [
            "precision  28.870292887029287\n",
            "recall  35.294117647058826\n"
          ],
          "name": "stdout"
        }
      ]
    },
    {
      "cell_type": "markdown",
      "metadata": {
        "id": "N0nz__fOsqZJ"
      },
      "source": [
        "Naive Bayes"
      ]
    },
    {
      "cell_type": "code",
      "metadata": {
        "colab": {
          "base_uri": "https://localhost:8080/"
        },
        "id": "NTYc30yuk5dK",
        "outputId": "7886367d-69b5-4d78-c3a4-4db111ecb684"
      },
      "source": [
        "confusion_matrix_naive=confusion_matrix(y_test, predictions_naive,labels=[1,0])\n",
        "confusion_matrix_naive"
      ],
      "execution_count": null,
      "outputs": [
        {
          "output_type": "execute_result",
          "data": {
            "text/plain": [
              "array([[  95,  296],\n",
              "       [ 127, 1996]])"
            ]
          },
          "metadata": {
            "tags": []
          },
          "execution_count": 276
        }
      ]
    },
    {
      "cell_type": "code",
      "metadata": {
        "colab": {
          "base_uri": "https://localhost:8080/"
        },
        "id": "2JDQTRIgoD19",
        "outputId": "205eb7cf-6f76-46c6-b877-ac1b250d79ab"
      },
      "source": [
        "print(\"precision \",precision_score(y_test,predictions_naive,labels=[1,0])*100)\n",
        "print(\"recall \",recall_score(y_test,predictions_naive,labels=[1,0])*100)"
      ],
      "execution_count": null,
      "outputs": [
        {
          "output_type": "stream",
          "text": [
            "precision  42.792792792792795\n",
            "recall  24.296675191815854\n"
          ],
          "name": "stdout"
        }
      ]
    },
    {
      "cell_type": "markdown",
      "metadata": {
        "id": "RMBUyPoVgcQC"
      },
      "source": [
        "# Score F1"
      ]
    },
    {
      "cell_type": "code",
      "metadata": {
        "colab": {
          "base_uri": "https://localhost:8080/"
        },
        "id": "blg8Bcl8gg_0",
        "outputId": "ade5338a-0bfe-4be2-adf4-f66a64ca1619"
      },
      "source": [
        "from sklearn.metrics import f1_score\n",
        "print(\"score f1 cart s/p \",f1_score(y_test,predictions_cart_SP))\n",
        "print(\"score f1 cart c/p \",f1_score(y_test,predictions_cart))\n",
        "print(\"score f1 naive bayes \",f1_score(y_test,predictions_naive))"
      ],
      "execution_count": null,
      "outputs": [
        {
          "output_type": "stream",
          "text": [
            "score f1 cart s/p  0.3026775320139697\n",
            "score f1 cart c/p  0.31760644418872264\n",
            "score f1 naive bayes  0.3099510603588907\n"
          ],
          "name": "stdout"
        }
      ]
    }
  ]
}